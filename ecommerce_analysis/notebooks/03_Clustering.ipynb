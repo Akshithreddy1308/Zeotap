{
 "cells": [
  {
   "cell_type": "code",
   "execution_count": null,
   "metadata": {},
   "outputs": [],
   "source": [
    "import sys\n",
    "sys.path.append('..')\n",
    "\n",
    "import pandas as pd\n",
    "import numpy as np\n",
    "import matplotlib.pyplot as plt\n",
    "import seaborn as sns\n",
    "from sklearn.preprocessing import StandardScaler\n",
    "from sklearn.cluster import KMeans\n",
    "from sklearn.metrics import davies_bouldin_score\n",
    "\n",
    "from src.data_loader import DataLoader\n",
    "from src.clustering import CustomerSegmentation\n",
    "\n",
    "plt.style.use('seaborn')"
   ]
  },
  {
   "cell_type": "code",
   "execution_count": null,
   "metadata": {},
   "outputs": [],
   "source": [
    "# Load data\n",
    "loader = DataLoader()\n",
    "customers_df, products_df, transactions_df = loader.load_all_data()\n",
    "\n",
    "# Initialize segmentation\n",
    "segmentation = CustomerSegmentation(customers_df, products_df, transactions_df)\n",
    "\n",
    "# Prepare features\n",
    "features = segmentation.prepare_features()\n",
    "print(\"Feature matrix shape:\", features.shape)\n",
    "print(\"\\nFeatures included:\", features.columns.tolist())"
   ]
  },
  {
   "cell_type": "code",
   "execution_count": null,
   "metadata": {},
   "outputs": [],
   "source": [
    "# Calculate DB Index for different numbers of clusters\n",
    "db_scores = segmentation.find_optimal_clusters(max_clusters=10)\n",
    "\n",
    "# Plot DB Index scores\n",
    "plt.figure(figsize=(10, 6))\n",
    "plt.plot(range(2, len(db_scores) + 2), db_scores, marker='o')\n",
    "plt.xlabel('Number of Clusters')\n",
    "plt.ylabel('Davies-Bouldin Index')\n",
    "plt.title('Davies-Bouldin Index vs Number of Clusters')\n",
    "plt.grid(True)\n",
    "\n",
    "# Find optimal number of clusters\n",
    "optimal_k = np.argmin(db_scores) + 2\n",
    "print(f\"Optimal number of clusters: {optimal_k}\")"
   ]
  },
  {
   "cell_type": "code",
   "execution_count": null,
   "metadata": {},
   "outputs": [],
   "source": [
    "# Perform clustering with optimal k\n",
    "kmeans = KMeans(n_clusters=optimal_k, random_state=42)\n",
    "clusters = kmeans.fit_predict(StandardScaler().fit_transform(features))\n",
    "\n",
    "# Add cluster labels to features\n",
    "features['Cluster'] = clusters\n",
    "\n",
    "# Analyze clusters\n",
    "cluster_summary = features.groupby('Cluster').mean()\n",
    "print(\"\\nCluster Summary:\")\n",
    "print(cluster_summary)\n",
    "\n",
    "# Save results\n",
    "results = {\n",
    "    'optimal_k': optimal_k,\n",
    "    'db_index': db_scores[optimal_k-2],\n",
    "    'cluster_summary': cluster_summary.to_dict()\n",
    "}\n",
    "\n",
    "# Save to PDF\n",
    "plt.savefig('../reports/clustering_results.pdf')\n",
    "print(\"\\nResults saved to '../reports/clustering_results.pdf'\")"
   ]
  }
 ],
 "metadata": {
  "language_info": {
   "name": "python"
  }
 },
 "nbformat": 4,
 "nbformat_minor": 2
}
